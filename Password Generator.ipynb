{
 "cells": [
  {
   "cell_type": "markdown",
   "id": "931e0725",
   "metadata": {},
   "source": [
    "# Password Generator"
   ]
  },
  {
   "cell_type": "code",
   "execution_count": 1,
   "id": "7f98f637",
   "metadata": {},
   "outputs": [
    {
     "name": "stdout",
     "output_type": "stream",
     "text": [
      "How many letters would u like? 5\n",
      "How many numbers would u like? 2\n",
      "How many symbols would u like? 2\n",
      "Your password is: 0b7#jfjx#\n"
     ]
    }
   ],
   "source": [
    "import string\n",
    "import random\n",
    "\n",
    "letters=[x for x in string.ascii_lowercase]\n",
    "numbers=[x for x in string.digits]\n",
    "symbols=[\"!\", \"@\", \"#\", \"$\", \"%\", \"&\", \"*\", \"+\", \"_\"]\n",
    "\n",
    "l=int( input(\"How many letters would u like? \"))\n",
    "n=int(input(\"How many numbers would u like? \"))\n",
    "s=int(input(\"How many symbols would u like? \"))\n",
    "random_list=[]\n",
    "\n",
    "for i in range(l):\n",
    "    random_list.append(random.choice(letters))\n",
    "for j in range(n):\n",
    "    random_list.append(random.choice(numbers))\n",
    "for k in range(s):\n",
    "    random_list.append(random.choice(symbols))\n",
    "    \n",
    "random.shuffle(random_list)\n",
    "password=\"\".join(random_list)\n",
    "\n",
    "print(\"Your password is:\", password)"
   ]
  },
  {
   "cell_type": "code",
   "execution_count": null,
   "id": "c01c2c31",
   "metadata": {},
   "outputs": [],
   "source": []
  }
 ],
 "metadata": {
  "kernelspec": {
   "display_name": "Python 3 (ipykernel)",
   "language": "python",
   "name": "python3"
  },
  "language_info": {
   "codemirror_mode": {
    "name": "ipython",
    "version": 3
   },
   "file_extension": ".py",
   "mimetype": "text/x-python",
   "name": "python",
   "nbconvert_exporter": "python",
   "pygments_lexer": "ipython3",
   "version": "3.9.7"
  }
 },
 "nbformat": 4,
 "nbformat_minor": 5
}
